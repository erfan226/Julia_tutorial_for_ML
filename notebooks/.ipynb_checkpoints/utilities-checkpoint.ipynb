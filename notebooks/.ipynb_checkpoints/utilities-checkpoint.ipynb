{
 "cells": [
  {
   "cell_type": "markdown",
   "metadata": {},
   "source": [
    "## Utilities"
   ]
  },
  {
   "cell_type": "markdown",
   "metadata": {},
   "source": [
    "### Reading & Writing to CSV"
   ]
  },
  {
   "cell_type": "code",
   "execution_count": 87,
   "metadata": {},
   "outputs": [
    {
     "name": "stdout",
     "output_type": "stream",
     "text": [
      "5×3 DataFrame\n",
      "│ Row │ Name   │ Age   │ Salary │\n",
      "│     │ \u001b[90mString\u001b[39m │ \u001b[90mInt64\u001b[39m │ \u001b[90mInt64\u001b[39m  │\n",
      "├─────┼────────┼───────┼────────┤\n",
      "│ 1   │ Jon    │ 22    │ 30000  │\n",
      "│ 2   │ Bill   │ 43    │ 45000  │\n",
      "│ 3   │ Maria  │ 81    │ 60000  │\n",
      "│ 4   │ Julia  │ 52    │ 50000  │\n",
      "│ 5   │ Mark   │ 27    │ 55000  │\n",
      "\n",
      "Highest Salary is: 60000\n"
     ]
    },
    {
     "data": {
      "text/html": [
       "<table class=\"data-frame\"><thead><tr><th></th><th>Name</th><th>Age</th><th>Salary</th></tr><tr><th></th><th>String</th><th>Int64</th><th>Int64</th></tr></thead><tbody><p>5 rows × 3 columns</p><tr><th>1</th><td>Jon</td><td>22</td><td>30000</td></tr><tr><th>2</th><td>Bill</td><td>43</td><td>45000</td></tr><tr><th>3</th><td>Maria</td><td>81</td><td>60000</td></tr><tr><th>4</th><td>Julia</td><td>52</td><td>50000</td></tr><tr><th>5</th><td>Mark</td><td>27</td><td>55000</td></tr></tbody></table>"
      ],
      "text/latex": [
       "\\begin{tabular}{r|ccc}\n",
       "\t& Name & Age & Salary\\\\\n",
       "\t\\hline\n",
       "\t& String & Int64 & Int64\\\\\n",
       "\t\\hline\n",
       "\t1 & Jon & 22 & 30000 \\\\\n",
       "\t2 & Bill & 43 & 45000 \\\\\n",
       "\t3 & Maria & 81 & 60000 \\\\\n",
       "\t4 & Julia & 52 & 50000 \\\\\n",
       "\t5 & Mark & 27 & 55000 \\\\\n",
       "\\end{tabular}\n"
      ],
      "text/plain": [
       "5×3 DataFrame\n",
       "│ Row │ Name   │ Age   │ Salary │\n",
       "│     │ \u001b[90mString\u001b[39m │ \u001b[90mInt64\u001b[39m │ \u001b[90mInt64\u001b[39m  │\n",
       "├─────┼────────┼───────┼────────┤\n",
       "│ 1   │ Jon    │ 22    │ 30000  │\n",
       "│ 2   │ Bill   │ 43    │ 45000  │\n",
       "│ 3   │ Maria  │ 81    │ 60000  │\n",
       "│ 4   │ Julia  │ 52    │ 50000  │\n",
       "│ 5   │ Mark   │ 27    │ 55000  │"
      ]
     },
     "execution_count": 87,
     "metadata": {},
     "output_type": "execute_result"
    }
   ],
   "source": [
    "using CSV\n",
    "using DataFrames\n",
    "\n",
    "f = \"/Users/erfan/f2.csv\" # In Windows you may need to use double-backslashes (\\\\Users\\\\user\\\\f.csv)\n",
    "\n",
    "df = DataFrame(Name = [\"Jon\",\"Bill\",\"Maria\",\"Julia\",\"Mark\"], \n",
    "               Age = [22,43,81,52,27],\n",
    "               Salary = [30000,45000,60000,50000,55000]\n",
    "               )\n",
    "println(df)\n",
    "println(\"\\nHighest Salary is: \", maximum(df.Salary))\n",
    "\n",
    "CSV.write(f, df)\n",
    "CSV.read(f)"
   ]
  },
  {
   "cell_type": "code",
   "execution_count": 15,
   "metadata": {},
   "outputs": [],
   "source": [
    "nothing # Nothing type"
   ]
  },
  {
   "cell_type": "markdown",
   "metadata": {},
   "source": [
    "### Profiling"
   ]
  },
  {
   "cell_type": "code",
   "execution_count": 16,
   "metadata": {},
   "outputs": [
    {
     "name": "stdout",
     "output_type": "stream",
     "text": [
      "  0.000005 seconds\n",
      "  0.000000 seconds (1 allocation: 112 bytes)\n",
      "  0.000135 seconds (102 allocations: 3.547 KiB)\n"
     ]
    },
    {
     "data": {
      "text/plain": [
       "4-element Array{Int64,1}:\n",
       "       200\n",
       "     20000\n",
       "   2000000\n",
       " 200000000"
      ]
     },
     "execution_count": 16,
     "metadata": {},
     "output_type": "execute_result"
    }
   ],
   "source": [
    "# Time for the whole loop\n",
    "@time for i = 1:999\n",
    "    i^20\n",
    "end\n",
    "\n",
    "function math_op(x, y)\n",
    "    # Time for each multiplication \n",
    "    @time x.*y\n",
    "end\n",
    "\n",
    "# Time for the whole function calculation\n",
    "@time math_op([10, 100, 1000, 10000], [20, 200, 2000, 20000])"
   ]
  }
 ],
 "metadata": {
  "kernelspec": {
   "display_name": "Julia 1.4.1",
   "language": "julia",
   "name": "julia-1.4"
  },
  "language_info": {
   "file_extension": ".jl",
   "mimetype": "application/julia",
   "name": "julia",
   "version": "1.4.1"
  }
 },
 "nbformat": 4,
 "nbformat_minor": 4
}
