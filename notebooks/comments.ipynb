{
 "cells": [
  {
   "cell_type": "markdown",
   "metadata": {
    "slideshow": {
     "slide_type": "slide"
    }
   },
   "source": [
    "## Comments"
   ]
  },
  {
   "cell_type": "code",
   "execution_count": null,
   "metadata": {},
   "outputs": [],
   "source": [
    "# This is a single-line comment"
   ]
  },
  {
   "cell_type": "code",
   "execution_count": null,
   "metadata": {
    "slideshow": {
     "slide_type": "fragment"
    }
   },
   "outputs": [],
   "source": [
    "#=\n",
    "    This is a multi-line comment,\n",
    "    and this is the second line,\n",
    "    and the thrid line,\n",
    "    and the fourth line :D\n",
    "=#"
   ]
  },
  {
   "cell_type": "markdown",
   "metadata": {},
   "source": [
    "## Documentation (Docstrings)"
   ]
  },
  {
   "cell_type": "code",
   "execution_count": null,
   "metadata": {},
   "outputs": [],
   "source": [
    "\"\"\"\n",
    "    mulitply(x, y)\n",
    "\n",
    "Mulitply `x` and `y` together.\n",
    "\n",
    "# Arguments\n",
    "- `x::Integer`: a number \n",
    "- `y::Integer=1`: another number\n",
    "\n",
    "# Examples\n",
    "```julia-repl\n",
    "julia> mulitply(2, 3)\n",
    "```\n",
    "\"\"\"\n",
    "mulitply(x, y) = println(x * y)\n",
    "\n",
    "\n",
    "mulitply(4, 4)\n"
   ]
  }
 ],
 "metadata": {
  "kernelspec": {
   "display_name": "Julia 1.4.1",
   "language": "julia",
   "name": "julia-1.4"
  },
  "language_info": {
   "file_extension": ".jl",
   "mimetype": "application/julia",
   "name": "julia",
   "version": "1.4.1"
  }
 },
 "nbformat": 4,
 "nbformat_minor": 4
}
