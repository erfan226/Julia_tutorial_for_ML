{
 "cells": [
  {
   "cell_type": "markdown",
   "metadata": {},
   "source": [
    "## Utilities"
   ]
  },
  {
   "cell_type": "markdown",
   "metadata": {},
   "source": [
    "### Reading & Writing to CSV"
   ]
  },
  {
   "cell_type": "code",
   "execution_count": 26,
   "metadata": {},
   "outputs": [
    {
     "name": "stdout",
     "output_type": "stream",
     "text": [
      "5×3 DataFrame\n",
      "│ Row │ Name        │ Age             │ Race      │\n",
      "│     │ \u001b[90mString\u001b[39m      │ \u001b[90mInt64\u001b[39m           │ \u001b[90mString\u001b[39m    │\n",
      "├─────┼─────────────┼─────────────────┼───────────┤\n",
      "│ 1   │ Doctor Who  │ 2200            │ Time Lord │\n",
      "│ 2   │ The Master  │ 2200            │ Time Lord │\n",
      "│ 3   │ Davros      │ 1000            │ Dalek     │\n",
      "│ 4   │ Face of Boe │ 100000000000000 │ Human     │\n",
      "│ 5   │ Erfan       │ 23              │ Human     │\n",
      "\n",
      " The oldest person is: 100000000000000 years old and is a Human\n"
     ]
    },
    {
     "data": {
      "text/html": [
       "<table class=\"data-frame\"><thead><tr><th></th><th>Name</th><th>Age</th><th>Race</th></tr><tr><th></th><th>String</th><th>Int64</th><th>String</th></tr></thead><tbody><p>5 rows × 3 columns</p><tr><th>1</th><td>Doctor Who</td><td>2200</td><td>Time Lord</td></tr><tr><th>2</th><td>The Master</td><td>2200</td><td>Time Lord</td></tr><tr><th>3</th><td>Davros</td><td>1000</td><td>Dalek</td></tr><tr><th>4</th><td>Face of Boe</td><td>100000000000000</td><td>Human</td></tr><tr><th>5</th><td>Erfan</td><td>23</td><td>Human</td></tr></tbody></table>"
      ],
      "text/latex": [
       "\\begin{tabular}{r|ccc}\n",
       "\t& Name & Age & Race\\\\\n",
       "\t\\hline\n",
       "\t& String & Int64 & String\\\\\n",
       "\t\\hline\n",
       "\t1 & Doctor Who & 2200 & Time Lord \\\\\n",
       "\t2 & The Master & 2200 & Time Lord \\\\\n",
       "\t3 & Davros & 1000 & Dalek \\\\\n",
       "\t4 & Face of Boe & 100000000000000 & Human \\\\\n",
       "\t5 & Erfan & 23 & Human \\\\\n",
       "\\end{tabular}\n"
      ],
      "text/plain": [
       "5×3 DataFrame\n",
       "│ Row │ Name        │ Age             │ Race      │\n",
       "│     │ \u001b[90mString\u001b[39m      │ \u001b[90mInt64\u001b[39m           │ \u001b[90mString\u001b[39m    │\n",
       "├─────┼─────────────┼─────────────────┼───────────┤\n",
       "│ 1   │ Doctor Who  │ 2200            │ Time Lord │\n",
       "│ 2   │ The Master  │ 2200            │ Time Lord │\n",
       "│ 3   │ Davros      │ 1000            │ Dalek     │\n",
       "│ 4   │ Face of Boe │ 100000000000000 │ Human     │\n",
       "│ 5   │ Erfan       │ 23              │ Human     │"
      ]
     },
     "execution_count": 26,
     "metadata": {},
     "output_type": "execute_result"
    }
   ],
   "source": [
    "using CSV\n",
    "using DataFrames\n",
    "\n",
    "f = \"/Users/erfan/f2.csv\" # In Windows you may need to use double-backslashes (\\\\Users\\\\user\\\\f.csv)\n",
    "\n",
    "df = DataFrame(Name = [\"Doctor Who\", \"The Master\",\"Davros\", \"Face of Boe\", \"Erfan\"], \n",
    "               Age = [2200, 2200, 1000, 100000000000000, 23],\n",
    "               Race = [\"Time Lord\", \"Time Lord\", \"Dalek\", \"Human\", \"Human\"]\n",
    "               )\n",
    "println(df)\n",
    "println(\"\\n The oldest person is: \", maximum(df.Age), \" years old and is a \", df.Race[findall(x->x==maximum(df.Age), df.Age)[1]])\n",
    "\n",
    "CSV.write(f, df)\n",
    "CSV.read(f)"
   ]
  },
  {
   "cell_type": "markdown",
   "metadata": {},
   "source": [
    "### Profiling"
   ]
  },
  {
   "cell_type": "code",
   "execution_count": 16,
   "metadata": {},
   "outputs": [
    {
     "name": "stdout",
     "output_type": "stream",
     "text": [
      "  0.000005 seconds\n",
      "  0.000000 seconds (1 allocation: 112 bytes)\n",
      "  0.000135 seconds (102 allocations: 3.547 KiB)\n"
     ]
    },
    {
     "data": {
      "text/plain": [
       "4-element Array{Int64,1}:\n",
       "       200\n",
       "     20000\n",
       "   2000000\n",
       " 200000000"
      ]
     },
     "execution_count": 16,
     "metadata": {},
     "output_type": "execute_result"
    }
   ],
   "source": [
    "# Time for the whole loop\n",
    "@time for i = 1:999\n",
    "    i^20\n",
    "end\n",
    "\n",
    "function math_op(x, y)\n",
    "    # Time for each multiplication \n",
    "    @time x.*y\n",
    "end\n",
    "\n",
    "# Time for the whole function calculation\n",
    "@time math_op([10, 100, 1000, 10000], [20, 200, 2000, 20000])"
   ]
  }
 ],
 "metadata": {
  "kernelspec": {
   "display_name": "Julia 1.4.1",
   "language": "julia",
   "name": "julia-1.4"
  },
  "language_info": {
   "file_extension": ".jl",
   "mimetype": "application/julia",
   "name": "julia",
   "version": "1.4.1"
  }
 },
 "nbformat": 4,
 "nbformat_minor": 4
}
