{
 "cells": [
  {
   "cell_type": "markdown",
   "metadata": {},
   "source": [
    "### Modules and Scope of Variables"
   ]
  },
  {
   "cell_type": "code",
   "execution_count": null,
   "metadata": {},
   "outputs": [],
   "source": [
    "# GreetingModule.jl\n",
    "module GreetingModule\n",
    "    say_hi() = println(\"hi\")\n",
    "    export say_hi\n",
    "end  # module"
   ]
  },
  {
   "cell_type": "code",
   "execution_count": 5,
   "metadata": {},
   "outputs": [],
   "source": [
    "#= include(\"./GreetingModule.jl\") For demnostration purposes only.\n",
    "We must load the code base first, then load the needed modules like:=#\n",
    "\n",
    "# import .GreetingModule\n",
    "\n",
    "# GreetingModule.say_hi()"
   ]
  },
  {
   "cell_type": "code",
   "execution_count": 4,
   "metadata": {},
   "outputs": [
    {
     "name": "stdout",
     "output_type": "stream",
     "text": [
      "1\n",
      "9\n"
     ]
    },
    {
     "name": "stderr",
     "output_type": "stream",
     "text": [
      "WARNING: replacing module A.\n",
      "WARNING: replacing module B.\n"
     ]
    },
    {
     "data": {
      "text/plain": [
       "Main.B"
      ]
     },
     "execution_count": 4,
     "metadata": {},
     "output_type": "execute_result"
    }
   ],
   "source": [
    "# Global Scope\n",
    "module A\n",
    "    a = 1 # global in A's scope\n",
    "    show_var() = println(a)\n",
    "    export say_hi\n",
    "end;\n",
    "\n",
    "module B\n",
    "    import ..A # Can also use 'using ..A'\n",
    "    b = 2 + A.a\n",
    "    A.show_var()\n",
    "    module C\n",
    "        c = 3\n",
    "    end\n",
    "    d = C.c * b\n",
    "    println(d)\n",
    "end"
   ]
  },
  {
   "cell_type": "code",
   "execution_count": null,
   "metadata": {},
   "outputs": [],
   "source": [
    "# Local Scope\n",
    "for i = 1:4\n",
    "    x = \"Num $i\"\n",
    "    for j = 1:2\n",
    "        println(x)\n",
    "    end\n",
    "end"
   ]
  },
  {
   "cell_type": "code",
   "execution_count": null,
   "metadata": {},
   "outputs": [],
   "source": [
    "# Define local variable\n",
    "for i = 1:4\n",
    "    for j = 1:2\n",
    "        local x = \"First loop shall not see me!\"\n",
    "    end\n",
    "    println(x)\n",
    "end"
   ]
  },
  {
   "cell_type": "code",
   "execution_count": null,
   "metadata": {},
   "outputs": [],
   "source": [
    "for i = 1:4\n",
    "    global p = \"PING!\"\n",
    "end\n",
    "\n",
    "println(p)"
   ]
  }
 ],
 "metadata": {
  "kernelspec": {
   "display_name": "Julia 1.4.1",
   "language": "julia",
   "name": "julia-1.4"
  },
  "language_info": {
   "file_extension": ".jl",
   "mimetype": "application/julia",
   "name": "julia",
   "version": "1.4.1"
  }
 },
 "nbformat": 4,
 "nbformat_minor": 4
}
