{
 "cells": [
  {
   "cell_type": "markdown",
   "metadata": {},
   "source": [
    "### Exception Handling\n",
    "Check [Built-in Exceptions](https://docs.julialang.org/en/v1/manual/control-flow/#Built-in-Exceptions-1)\n"
   ]
  },
  {
   "cell_type": "markdown",
   "metadata": {},
   "source": [
    "#### Throw Function"
   ]
  },
  {
   "cell_type": "code",
   "execution_count": 117,
   "metadata": {},
   "outputs": [
    {
     "ename": "DimensionMismatch",
     "evalue": "DimensionMismatch(\"Dimensions don't have the same size.\")",
     "output_type": "error",
     "traceback": [
      "DimensionMismatch(\"Dimensions don't have the same size.\")",
      "",
      "Stacktrace:",
      " [1] top-level scope at In[117]:3"
     ]
    }
   ],
   "source": [
    "a = [1, 2, 3]\n",
    "b = [1, 2]\n",
    "size(a) == size(b) || throw(DimensionMismatch(\"Dimensions don't have the same size.\"))"
   ]
  },
  {
   "cell_type": "markdown",
   "metadata": {},
   "source": [
    "#### Error"
   ]
  },
  {
   "cell_type": "code",
   "execution_count": 3,
   "metadata": {},
   "outputs": [
    {
     "ename": "ErrorException",
     "evalue": "Not Allowed",
     "output_type": "error",
     "traceback": [
      "Not Allowed",
      "",
      "Stacktrace:",
      " [1] error(::String) at ./error.jl:33",
      " [2] top-level scope at In[3]:2"
     ]
    }
   ],
   "source": [
    "age = 16\n",
    "age >= 18 ? \"Ok\" : error(\"Not Allowed\")"
   ]
  },
  {
   "cell_type": "markdown",
   "metadata": {},
   "source": [
    "#### Try/Catch"
   ]
  },
  {
   "cell_type": "code",
   "execution_count": 9,
   "metadata": {},
   "outputs": [
    {
     "name": "stdout",
     "output_type": "stream",
     "text": [
      "Numeric value needed!"
     ]
    }
   ],
   "source": [
    "try\n",
    "    sqrt(\"nine\")\n",
    "catch e\n",
    "    print(\"Numeric value needed!\")\n",
    "end"
   ]
  },
  {
   "cell_type": "markdown",
   "metadata": {},
   "source": [
    "#### \"finally\" Clauses"
   ]
  },
  {
   "cell_type": "code",
   "execution_count": 1,
   "metadata": {},
   "outputs": [
    {
     "name": "stdout",
     "output_type": "stream",
     "text": [
      "opened\n",
      "closed\n"
     ]
    }
   ],
   "source": [
    "# \"finally\" guarantees that an opened file is closed or any other task is cleaned up after the execution of program\n",
    "try\n",
    "    # Operate on a file\n",
    "    println(\"opened\")\n",
    "finally\n",
    "    # Close the file after operation is complete\n",
    "    println(\"closed\")\n",
    "end"
   ]
  }
 ],
 "metadata": {
  "kernelspec": {
   "display_name": "Julia 1.4.1",
   "language": "julia",
   "name": "julia-1.4"
  },
  "language_info": {
   "file_extension": ".jl",
   "mimetype": "application/julia",
   "name": "julia",
   "version": "1.4.1"
  }
 },
 "nbformat": 4,
 "nbformat_minor": 4
}
